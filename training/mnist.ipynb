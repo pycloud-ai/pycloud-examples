{
 "cells": [
  {
   "cell_type": "markdown",
   "metadata": {},
   "source": [
    "### Mnist hyperparameter tuning example\n"
   ]
  },
  {
   "cell_type": "code",
   "execution_count": 1,
   "metadata": {},
   "outputs": [],
   "source": [
    "# PyCloud\n",
    "\n",
    "\n",
    "import logging\n",
    "import time\n",
    "import json\n",
    "\n",
    "import tensorflow.compat.v2 as tf\n",
    "import tensorflow_datasets as tfds\n",
    "\n",
    "tf.enable_v2_behavior()\n",
    "\n",
    "from pycloud.core import PyCloud\n",
    "\n",
    "CLOUD = PyCloud.get_instance()\n",
    "\n",
    "LOGGER = logging.getLogger(\"MnistTraining\")"
   ]
  },
  {
   "cell_type": "markdown",
   "metadata": {},
   "source": [
    "### Define api endpoint acceptiong lists of hyperparameters"
   ]
  },
  {
   "cell_type": "code",
   "execution_count": 2,
   "metadata": {},
   "outputs": [],
   "source": [
    "# PyCloud\n",
    "\n",
    "@CLOUD.endpoint(\"api\")\n",
    "def train(learning_rates, epochs_list):\n",
    "    learning_rates = json.loads(learning_rates)\n",
    "    epochs_list = json.loads(epochs_list)\n",
    "    results = []\n",
    "    for lr in learning_rates:\n",
    "        for epochs in epochs_list:\n",
    "            results.append((lr, epochs, train_mnist(lr, epochs)))\n",
    "    return results"
   ]
  },
  {
   "cell_type": "markdown",
   "metadata": {},
   "source": [
    "### Define service responsibe for training mnist with specific hyperparams - learning rate nad number of epochs"
   ]
  },
  {
   "cell_type": "code",
   "execution_count": 3,
   "metadata": {},
   "outputs": [],
   "source": [
    "# PyCloud\n",
    "\n",
    "@CLOUD.endpoint(\"mnist_trainer\")\n",
    "def load_data():\n",
    "    (ds_train, ds_test), ds_info = tfds.load(\n",
    "        'mnist',\n",
    "        split=['train', 'test'],\n",
    "        shuffle_files=True,\n",
    "        as_supervised=True,\n",
    "        with_info=True,\n",
    "        try_gcs=True\n",
    "    )\n",
    "    return ds_train, ds_test, ds_info\n",
    "\n",
    "\n",
    "@CLOUD.endpoint(\"mnist_trainer\")\n",
    "def train_mnist(learning_rate, epochs):\n",
    "    learning_rate = float(learning_rate)\n",
    "    epochs = int(epochs)\n",
    "    ds_train, ds_test, ds_info = load_data()\n",
    "\n",
    "    def normalize_img(image, label):\n",
    "        \"\"\"Normalizes images: `uint8` -> `float32`.\"\"\"\n",
    "        return tf.cast(image, tf.float32) / 255., label\n",
    "\n",
    "    ds_train = ds_train.map(\n",
    "        normalize_img, num_parallel_calls=tf.data.experimental.AUTOTUNE)\n",
    "    ds_train = ds_train.cache()\n",
    "    ds_train = ds_train.shuffle(ds_info.splits['train'].num_examples)\n",
    "    ds_train = ds_train.batch(128)\n",
    "    ds_train = ds_train.prefetch(tf.data.experimental.AUTOTUNE)\n",
    "\n",
    "    ds_test = ds_test.map(\n",
    "        normalize_img, num_parallel_calls=tf.data.experimental.AUTOTUNE)\n",
    "    ds_test = ds_test.batch(128)\n",
    "    ds_test = ds_test.cache()\n",
    "    ds_test = ds_test.prefetch(tf.data.experimental.AUTOTUNE)\n",
    "\n",
    "    model = tf.keras.models.Sequential([\n",
    "        tf.keras.layers.Flatten(input_shape=(28, 28, 1)),\n",
    "        tf.keras.layers.Dense(128, activation='relu'),\n",
    "        tf.keras.layers.Dense(10, activation='softmax')\n",
    "    ])\n",
    "    model.compile(\n",
    "        loss='sparse_categorical_crossentropy',\n",
    "        optimizer=tf.keras.optimizers.Adam(learning_rate),\n",
    "        metrics=['accuracy'],\n",
    "    )\n",
    "\n",
    "    history = model.fit(\n",
    "        ds_train,\n",
    "        epochs=epochs,\n",
    "        validation_data=ds_test,\n",
    "    )\n",
    "    accuracy = history.history['accuracy'][-1]\n",
    "    CLOUD.collect_metric('accuracy', ['MAX'], accuracy)\n",
    "    return accuracy"
   ]
  },
  {
   "cell_type": "markdown",
   "metadata": {},
   "source": [
    "### Define building function"
   ]
  },
  {
   "cell_type": "code",
   "execution_count": 4,
   "metadata": {},
   "outputs": [
    {
     "name": "stderr",
     "output_type": "stream",
     "text": [
      "2020-11-16:09:37:00,103 INFO     [core.py:473] Executing <function train at 0x7fd3704e9730> \n",
      "2020-11-16:09:37:00,109 INFO     [core.py:473] Executing <function train_mnist at 0x7fd3704e98c8> \n",
      "2020-11-16:09:37:00,110 INFO     [core.py:473] Executing <function load_data at 0x7fd3704e96a8> \n",
      "2020-11-16:09:37:01,523 INFO     [dataset_info.py:362] Load dataset info from gs://tfds-data/datasets/mnist/3.0.1\n",
      "2020-11-16:09:37:02,593 INFO     [dataset_info.py:413] Field info.citation from disk and from code do not match. Keeping the one from code.\n",
      "2020-11-16:09:37:02,859 INFO     [dataset_builder.py:323] Reusing dataset mnist (gs://tfds-data/datasets/mnist/3.0.1)\n",
      "2020-11-16:09:37:02,860 INFO     [dataset_builder.py:529] Constructing tf.data.Dataset for split ['train', 'test'], from gs://tfds-data/datasets/mnist/3.0.1\n",
      "2020-11-16:09:37:03,326 INFO     [core.py:480] Registering call on service mnist-trainer, train_mnist@mnist.ipynb -> load_data@mnist.ipynb\n"
     ]
    },
    {
     "name": "stdout",
     "output_type": "stream",
     "text": [
      "469/469 [==============================] - 1s 2ms/step - loss: 0.2482 - accuracy: 0.9265 - val_loss: 0.1438 - val_accuracy: 0.9594\n"
     ]
    },
    {
     "name": "stderr",
     "output_type": "stream",
     "text": [
      "2020-11-16:09:37:06,464 INFO     [core.py:480] Registering call on service api, train@mnist.ipynb -> train_mnist@mnist.ipynb\n",
      "2020-11-16:09:37:06,466 INFO     [core.py:593] Saving cloud definition at path: /home/krzych/git/pycloud-examples/training/_graph_.json\n"
     ]
    },
    {
     "name": "stdout",
     "output_type": "stream",
     "text": [
      "[(0.02, 1, 0.9265166521072388)]\n"
     ]
    }
   ],
   "source": [
    "def build_mnist_training():\n",
    "    accuracy = train(\"[0.02]\", \"[1]\")\n",
    "    print(accuracy)\n",
    "    CLOUD.configure_service(\"api\", exposed=\"True\", preferred_ports={'HTTP': 5001})\n",
    "    CLOUD.set_basic_auth_credentials(\"pycloud\", \"demo\")\n",
    "\n",
    "\n",
    "CLOUD.build(build_mnist_training)"
   ]
  },
  {
   "cell_type": "markdown",
   "metadata": {},
   "source": [
    "### Deploy to the cluster ( change to EksLauncher to deploy on Amazon EKS)"
   ]
  },
  {
   "cell_type": "code",
   "execution_count": 5,
   "metadata": {},
   "outputs": [
    {
     "name": "stderr",
     "output_type": "stream",
     "text": [
      "2020-11-16:09:37:10,528 INFO     [launcher.py:104] Executing app from directory: /home/krzych/git/pycloud-examples/training\n"
     ]
    },
    {
     "name": "stdout",
     "output_type": "stream",
     "text": [
      "Please review app architecture:\n",
      "Services:\n",
      "  id: api\n",
      "    exposed: True\n",
      "    endpoints:\n",
      "      id: train@mnist.ipynb\n",
      "        edges:\n",
      "          train_mnist@mnist.ipynb\n",
      "        protocols: GRPC, HTTP\n",
      "  id: mnist-trainer\n",
      "    exposed: False\n",
      "    endpoints:\n",
      "      id: train_mnist@mnist.ipynb\n",
      "        edges:\n",
      "          load_data@mnist.ipynb\n",
      "        protocols: GRPC, HTTP\n",
      "      id: load_data@mnist.ipynb\n",
      "        edges:\n",
      "        protocols: GRPC, HTTP\n",
      "Do you want to deploy above graph to cluster? (y/n)\n",
      "y\n",
      "Deployment to cluster: APPROVED\n",
      "Checking whether docker ps works...\n",
      "OK\n",
      "License key file found, copying to /home/krzych/git/pycloud-examples/training/.pycloud_license_key\n"
     ]
    },
    {
     "name": "stderr",
     "output_type": "stream",
     "text": [
      "2020-11-16:09:37:16,543 INFO     [core.py:593] Saving cloud definition at path: /home/krzych/git/pycloud-examples/training/./_graph_.json\n"
     ]
    },
    {
     "name": "stdout",
     "output_type": "stream",
     "text": [
      "Building image pycloud_service:pycloud-cluster-726315\n",
      "Step 1/13 : FROM python:3.8.3\n",
      " ---> 7f5b6ccd03e9\n",
      "Step 2/13 : RUN mkdir /app\n",
      " ---> Using cache\n",
      " ---> 37ff4a3eac70\n",
      "Step 3/13 : WORKDIR /app\n",
      " ---> Using cache\n",
      " ---> 1012fcbdff0b\n",
      "Step 4/13 : ADD ./temp_file_runner_requirements.txt /app/pycloud-dist/runner_requirements.txt\n",
      " ---> Using cache\n",
      " ---> 30a4425296ab\n",
      "Step 5/13 : RUN pip install -r pycloud-dist/runner_requirements.txt\n",
      " ---> Using cache\n",
      " ---> 9e6a99cf914d\n",
      "Step 6/13 : ADD requirements.txt /app/\n",
      " ---> Using cache\n",
      " ---> edfb021172aa\n",
      "Step 7/13 : RUN pip install -r requirements.txt\n",
      " ---> Using cache\n",
      " ---> cfa6c99d9813\n",
      "Step 8/13 : ADD ./temp_file_pycloud.so /app/pycloud-dist/pycloud.so\n",
      " ---> Using cache\n",
      " ---> 201114dbb1ae\n",
      "Step 9/13 : ADD ./temp_file_pycloud_cli.so /app/pycloud-dist/pycloud_cli.so\n",
      " ---> Using cache\n",
      " ---> c9aecdc16316\n",
      "Step 10/13 : ADD ./temp_file_run_runner.py /app/pycloud-dist/run_runner.py\n",
      " ---> Using cache\n",
      " ---> d894f7378331\n",
      "Step 11/13 : CMD python /app/pycloud-dist/run_runner.py\n",
      " ---> Using cache\n",
      " ---> 8400710edfca\n",
      "Step 12/13 : ADD . /app/\n",
      " ---> f9e1624c9cd3\n",
      "Step 13/13 : ADD .pycloud_license_key /app/\n",
      " ---> 51dfba53ac31\n",
      "Successfully built 51dfba53ac31\n",
      "Successfully tagged pycloud_service:pycloud-cluster-726315\n",
      "Building image finished.\n",
      "Building image pycloud_console:pycloud-cluster-726315\n",
      "Step 1/6 : FROM openresty/openresty:alpine-fat-nosse42\n",
      " ---> cdfa03599c75\n",
      "Step 2/6 : WORKDIR /\n",
      " ---> Using cache\n",
      " ---> f8eb04a72e42\n",
      "Step 3/6 : COPY temp_file_console.tar.gz /console.tar.gz\n",
      " ---> Using cache\n",
      " ---> 5d10aba4d78f\n",
      "Step 4/6 : RUN tar xvzf console.tar.gz\n",
      " ---> Using cache\n",
      " ---> d269f65fe9aa\n",
      "Step 5/6 : EXPOSE 80\n",
      " ---> Using cache\n",
      " ---> 68bbf57d61c6\n",
      "Step 6/6 : ENTRYPOINT [\"bash\", \"/usr/bin/start_nginx.sh\"]\n",
      " ---> Using cache\n",
      " ---> b5d048e2438b\n",
      "Successfully built b5d048e2438b\n",
      "Successfully tagged pycloud_console:pycloud-cluster-726315\n",
      "Building image finished.\n",
      "Images : {'api': 'pycloud_service:pycloud-cluster-726315', 'mnist-trainer': 'pycloud_service:pycloud-cluster-726315', 'pycloud-management': 'pycloud_service:pycloud-cluster-726315', 'pycloud-console': 'pycloud_console:pycloud-cluster-726315'}\n"
     ]
    },
    {
     "name": "stderr",
     "output_type": "stream",
     "text": [
      "2020-11-16:09:37:21,921 INFO     [docker.py:97] Pulling image: influxdb:1.5\n",
      "2020-11-16:09:37:24,745 INFO     [docker.py:70] Service deployment params: <pycloud_cli.deployment_params.ServiceDeploymentParams object at 0x7fd3600cf860>\n",
      "2020-11-16:09:37:25,116 INFO     [docker.py:87] Starting container: influxdb-pycloud-cluster-726315 , envs :{'INFLUXDB_USERNAME': 'plnlndihfn', 'INFLUXDB_PASSWORD': 'nixqdsecdddyuasxxbgm'}, hostname: influxdb, port bindings: {}\n",
      "2020-11-16:09:37:25,116 INFO     [launcher.py:256] Checking whether RabbitMQ is required...\n",
      "2020-11-16:09:37:25,117 INFO     [launcher.py:264] No. Skipping.\n",
      "2020-11-16:09:37:25,117 INFO     [launcher.py:210] Service params: <pycloud_cli.deployment_params.ServiceDeploymentParams object at 0x7fd3600cf860>\n",
      "2020-11-16:09:37:25,117 INFO     [docker.py:70] Service deployment params: <pycloud_cli.deployment_params.ServiceDeploymentParams object at 0x7fd3600cf860>\n",
      "2020-11-16:09:37:25,461 INFO     [docker.py:87] Starting container: pycloud-management-pycloud-cluster-726315 , envs :{'NODE_ID': 'pycloud-management', 'DEPLOYMENT_ID': 'pycloud-cluster-726315'}, hostname: pycloud-management, port bindings: {}\n",
      "2020-11-16:09:37:25,461 INFO     [launcher.py:210] Service params: <pycloud_cli.deployment_params.ServiceDeploymentParams object at 0x7fd3600cf860>\n",
      "2020-11-16:09:37:25,462 INFO     [docker.py:70] Service deployment params: <pycloud_cli.deployment_params.ServiceDeploymentParams object at 0x7fd3600cf860>\n",
      "2020-11-16:09:37:26,20 INFO     [docker.py:87] Starting container: api-pycloud-cluster-726315 , envs :{'NODE_ID': 'api', 'DEPLOYMENT_ID': 'pycloud-cluster-726315'}, hostname: api, port bindings: {5000: 5001, 6779: 43849}\n",
      "2020-11-16:09:37:26,21 INFO     [launcher.py:210] Service params: <pycloud_cli.deployment_params.ServiceDeploymentParams object at 0x7fd3600cf860>\n",
      "2020-11-16:09:37:26,21 INFO     [docker.py:70] Service deployment params: <pycloud_cli.deployment_params.ServiceDeploymentParams object at 0x7fd3600cf860>\n",
      "2020-11-16:09:37:26,624 INFO     [docker.py:87] Starting container: mnist-trainer-pycloud-cluster-726315 , envs :{'NODE_ID': 'mnist-trainer', 'DEPLOYMENT_ID': 'pycloud-cluster-726315'}, hostname: mnist-trainer, port bindings: {}\n",
      "2020-11-16:09:37:26,625 INFO     [docker.py:70] Service deployment params: <pycloud_cli.deployment_params.ServiceDeploymentParams object at 0x7fd3f48a69e8>\n",
      "2020-11-16:09:37:27,170 INFO     [docker.py:87] Starting container: pycloud-console-pycloud-cluster-726315 , envs :{'MANAGEMENT_HTTP_HOST': 'pycloud-management:5000'}, hostname: pycloud-console, port bindings: {80: 57669}\n",
      "2020-11-16:09:37:27,171 INFO     [core.py:593] Saving cloud definition at path: /home/krzych/git/pycloud-examples/training/./_graph_.json\n"
     ]
    },
    {
     "name": "stdout",
     "output_type": "stream",
     "text": [
      "PyCloud cluster deployed with id: pycloud-cluster-726315\n",
      "Internal services:\n",
      "  id: mnist-trainer\n",
      "    endpoints:\n",
      "      train_mnist@mnist.ipynb\n",
      "      load_data@mnist.ipynb\n",
      "  id: pycloud-management\n",
      "    endpoints:\n",
      "      get_cluster_info@pycloud.monitoring_service.monitoring\n",
      "      request_history@pycloud.monitoring_service.monitoring\n",
      "      metrics_graph@pycloud.monitoring_service.monitoring\n",
      "      authenticate@pycloud.monitoring_service.monitoring\n",
      "      user_metrics@pycloud.monitoring_service.monitoring\n",
      "  id: influxdb\n",
      "Exposed services:\n",
      "  id: api\n",
      "    hosts: \n",
      "      HTTP localhost:5001\n",
      "      GRPC localhost:43849\n",
      "    endpoints:\n",
      "      train@mnist.ipynb\n",
      "  id: pycloud-console\n",
      "    hosts: \n",
      "      HTTP localhost:57669\n",
      "Console credentials: {'username': 'pycloud', 'password': 'demo'}\n"
     ]
    }
   ],
   "source": [
    "from pycloud_cli.docker import DockerLauncher\n",
    "# from pycloud_cli.eks import EksLauncher\n",
    "launcher = DockerLauncher(CLOUD)\n",
    "launcher.exec()"
   ]
  },
  {
   "cell_type": "markdown",
   "metadata": {},
   "source": [
    "### Send request to the api with lists of hyperparameters, receive list of (lr, epochs, achieved_accuracy)"
   ]
  },
  {
   "cell_type": "code",
   "execution_count": 7,
   "metadata": {},
   "outputs": [
    {
     "name": "stdout",
     "output_type": "stream",
     "text": [
      "[[0.1, 10, 0.8432000279426575], [0.1, 20, 0.8336166739463806], [0.1, 30, 0.8153166770935059], [0.01, 10, 0.9847833514213562], [0.01, 20, 0.9913666844367981], [0.01, 30, 0.9948833584785461], [0.001, 10, 0.9912333488464355], [0.001, 20, 0.9987333416938782], [0.001, 30, 0.9999666810035706]]"
     ]
    }
   ],
   "source": [
    "!curl localhost:5001 -F \"endpoint_id=train@mnist.ipynb\" -F \"learning_rates=[0.1, 0.01, 0.001]\" -F \"epochs_list=[10, 20, 30]\""
   ]
  },
  {
   "cell_type": "markdown",
   "metadata": {},
   "source": [
    "## Best accuracy achieved: 0.99997"
   ]
  },
  {
   "cell_type": "code",
   "execution_count": null,
   "metadata": {},
   "outputs": [],
   "source": []
  }
 ],
 "metadata": {
  "kernelspec": {
   "display_name": "Python 3",
   "language": "python",
   "name": "python3"
  },
  "language_info": {
   "codemirror_mode": {
    "name": "ipython",
    "version": 3
   },
   "file_extension": ".py",
   "mimetype": "text/x-python",
   "name": "python",
   "nbconvert_exporter": "python",
   "pygments_lexer": "ipython3",
   "version": "3.6.9"
  }
 },
 "nbformat": 4,
 "nbformat_minor": 4
}
